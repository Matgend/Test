{
 "cells": [
  {
   "cell_type": "code",
   "execution_count": 1,
   "metadata": {},
   "outputs": [],
   "source": [
    "import pandas as pd\n",
    "# import numpy as np\n",
    "import glob"
   ]
  },
  {
   "cell_type": "code",
   "execution_count": 18,
   "metadata": {},
   "outputs": [],
   "source": [
    "filenames = glob.glob('\\\\Users\\\\Matthieu\\\\Desktop\\\\Data_option\\\\*.txt') # mettre tous les noms des fichiers txt du répertoir dans une variable"
   ]
  },
  {
   "cell_type": "code",
   "execution_count": 20,
   "metadata": {},
   "outputs": [],
   "source": [
    "for file in filenames:\n",
    "\n",
    "\n",
    "    target_name = 'Converted_' + file.split('\\\\')[5] # nom du fichier converti\n",
    "    \n",
    "    data = pd.read_csv(file, delimiter='\\t') # lecture du fichier\n",
    "    \n",
    "    first_row = data.loc[0].astype(str) # convertir numpy.int64 en str pour utiliser .startswith()\n",
    "    for index, item in enumerate(first_row):\n",
    "        if item.startswith('rs'): # pour trouver les colonne des SNPs\n",
    "            SNP = data.columns[index] # pour connaître le nom de la variables contenant les SNPs\n",
    "    \n",
    "    for name in data.columns:\n",
    "        if name.startswith('pval') or name.startswith('Pval') or name.startswith('PVAL'): # pour trouver les colonne des SNPs\n",
    "            pval = name\n",
    "           \n",
    "    store = data[[SNP, pval]].values\n",
    "    \n",
    "    f = open(\"\\\\Users\\\\Matthieu\\\\Desktop\\\\Data_option\\\\\"+ target_name,\"w\")\n",
    "\n",
    "    for i in range(0,len(store)):\n",
    "        if store[i][0][:2] == 'rs':\n",
    "            f.write(str(store[i][0]) + \"\\t\" + str(store[i][1]) + \"\\n\")\n",
    "\n",
    "    f.close()\n",
    "\n",
    "\n",
    "    \n",
    "    \n",
    "\n",
    "    "
   ]
  },
  {
   "cell_type": "code",
   "execution_count": null,
   "metadata": {},
   "outputs": [],
   "source": []
  }
 ],
 "metadata": {
  "kernelspec": {
   "display_name": "Python 3",
   "language": "python",
   "name": "python3"
  },
  "language_info": {
   "codemirror_mode": {
    "name": "ipython",
    "version": 3
   },
   "file_extension": ".py",
   "mimetype": "text/x-python",
   "name": "python",
   "nbconvert_exporter": "python",
   "pygments_lexer": "ipython3",
   "version": "3.7.4"
  }
 },
 "nbformat": 4,
 "nbformat_minor": 4
}
